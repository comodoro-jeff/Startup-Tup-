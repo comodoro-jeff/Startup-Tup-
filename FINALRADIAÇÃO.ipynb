{
  "nbformat": 4,
  "nbformat_minor": 0,
  "metadata": {
    "colab": {
      "name": "FINALRADIAÇÃO.ipynb",
      "provenance": [],
      "collapsed_sections": [
        "5Ftynt5AJRjw"
      ]
    },
    "kernelspec": {
      "name": "python3",
      "display_name": "Python 3"
    },
    "language_info": {
      "name": "python"
    }
  },
  "cells": [
    {
      "cell_type": "markdown",
      "source": [
        "#Inicio\n",
        "\n",
        "Começaremos instalando e importando as bibliotecas necessárias para o uso."
      ],
      "metadata": {
        "id": "5Ftynt5AJRjw"
      }
    },
    {
      "cell_type": "code",
      "execution_count": null,
      "metadata": {
        "colab": {
          "base_uri": "https://localhost:8080/"
        },
        "id": "bJtn_JRdJI2p",
        "outputId": "1c0a1469-c7a2-496e-aee3-9736b334f930"
      },
      "outputs": [
        {
          "output_type": "stream",
          "name": "stdout",
          "text": [
            "Looking in indexes: https://pypi.org/simple, https://us-python.pkg.dev/colab-wheels/public/simple/\n",
            "Requirement already satisfied: Prophet in /usr/local/lib/python3.7/dist-packages (1.1)\n",
            "Requirement already satisfied: holidays>=0.13 in /usr/local/lib/python3.7/dist-packages (from Prophet) (0.14.2)\n",
            "Requirement already satisfied: cmdstanpy>=1.0.1 in /usr/local/lib/python3.7/dist-packages (from Prophet) (1.0.4)\n",
            "Requirement already satisfied: pandas>=1.0.4 in /usr/local/lib/python3.7/dist-packages (from Prophet) (1.3.5)\n",
            "Requirement already satisfied: convertdate>=2.1.2 in /usr/local/lib/python3.7/dist-packages (from Prophet) (2.4.0)\n",
            "Requirement already satisfied: numpy>=1.15.4 in /usr/local/lib/python3.7/dist-packages (from Prophet) (1.21.6)\n",
            "Requirement already satisfied: Cython>=0.22 in /usr/local/lib/python3.7/dist-packages (from Prophet) (0.29.30)\n",
            "Requirement already satisfied: tqdm>=4.36.1 in /usr/local/lib/python3.7/dist-packages (from Prophet) (4.64.0)\n",
            "Requirement already satisfied: python-dateutil>=2.8.0 in /usr/local/lib/python3.7/dist-packages (from Prophet) (2.8.2)\n",
            "Requirement already satisfied: wheel>=0.37.0 in /usr/local/lib/python3.7/dist-packages (from Prophet) (0.37.1)\n",
            "Requirement already satisfied: matplotlib>=2.0.0 in /usr/local/lib/python3.7/dist-packages (from Prophet) (3.2.2)\n",
            "Requirement already satisfied: setuptools-git>=1.2 in /usr/local/lib/python3.7/dist-packages (from Prophet) (1.2)\n",
            "Requirement already satisfied: setuptools>=42 in /usr/local/lib/python3.7/dist-packages (from Prophet) (57.4.0)\n",
            "Requirement already satisfied: LunarCalendar>=0.0.9 in /usr/local/lib/python3.7/dist-packages (from Prophet) (0.0.9)\n",
            "Requirement already satisfied: ujson in /usr/local/lib/python3.7/dist-packages (from cmdstanpy>=1.0.1->Prophet) (5.4.0)\n",
            "Requirement already satisfied: pymeeus<=1,>=0.3.13 in /usr/local/lib/python3.7/dist-packages (from convertdate>=2.1.2->Prophet) (0.5.11)\n",
            "Requirement already satisfied: hijri-converter in /usr/local/lib/python3.7/dist-packages (from holidays>=0.13->Prophet) (2.2.4)\n",
            "Requirement already satisfied: korean-lunar-calendar in /usr/local/lib/python3.7/dist-packages (from holidays>=0.13->Prophet) (0.2.1)\n",
            "Requirement already satisfied: ephem>=3.7.5.3 in /usr/local/lib/python3.7/dist-packages (from LunarCalendar>=0.0.9->Prophet) (4.1.3)\n",
            "Requirement already satisfied: pytz in /usr/local/lib/python3.7/dist-packages (from LunarCalendar>=0.0.9->Prophet) (2022.1)\n",
            "Requirement already satisfied: pyparsing!=2.0.4,!=2.1.2,!=2.1.6,>=2.0.1 in /usr/local/lib/python3.7/dist-packages (from matplotlib>=2.0.0->Prophet) (3.0.9)\n",
            "Requirement already satisfied: cycler>=0.10 in /usr/local/lib/python3.7/dist-packages (from matplotlib>=2.0.0->Prophet) (0.11.0)\n",
            "Requirement already satisfied: kiwisolver>=1.0.1 in /usr/local/lib/python3.7/dist-packages (from matplotlib>=2.0.0->Prophet) (1.4.3)\n",
            "Requirement already satisfied: typing-extensions in /usr/local/lib/python3.7/dist-packages (from kiwisolver>=1.0.1->matplotlib>=2.0.0->Prophet) (4.1.1)\n",
            "Requirement already satisfied: six>=1.5 in /usr/local/lib/python3.7/dist-packages (from python-dateutil>=2.8.0->Prophet) (1.15.0)\n"
          ]
        }
      ],
      "source": [
        "!pip install Prophet"
      ]
    },
    {
      "cell_type": "code",
      "source": [
        "import pandas as pd\n",
        "from prophet.plot import plot_plotly, plot_components_plotly\n",
        "from fbprophet import Prophet\n",
        "from sklearn import metrics\n",
        "from fbprophet.diagnostics import performance_metrics\n",
        "from fbprophet.diagnostics import cross_validation\n",
        "import numpy as np"
      ],
      "metadata": {
        "id": "kuY_q7nmJqIB"
      },
      "execution_count": null,
      "outputs": []
    },
    {
      "cell_type": "markdown",
      "source": [
        "# Tratamento de dados\n",
        "Faz o tratamento e a exibição de dados"
      ],
      "metadata": {
        "id": "l0WIkipxLeWk"
      }
    },
    {
      "cell_type": "markdown",
      "source": [
        "Dataframe do csv. Enviar o csv para a área de arquivos sempre que abrir o notebook."
      ],
      "metadata": {
        "id": "DL1IO9dmcj95"
      }
    },
    {
      "cell_type": "code",
      "source": [
        "df = pd.read_csv('disquete(menor que 0 é 0).csv')\n",
        "df.head(20)"
      ],
      "metadata": {
        "colab": {
          "base_uri": "https://localhost:8080/",
          "height": 676
        },
        "id": "KepgV2V8NpMT",
        "outputId": "2d91f83d-ac0a-4ced-ee58-24135077e707"
      },
      "execution_count": null,
      "outputs": [
        {
          "output_type": "execute_result",
          "data": {
            "text/plain": [
              "    Unnamed: 0           TIME_STAMP  RAD_GLO  TEM_INS  UMD_INS\n",
              "0            0  2021-07-07 00:00:00      0.8     23.8     89.0\n",
              "1            1  2021-07-07 01:00:00      1.8     23.8     89.0\n",
              "2            2  2021-07-07 02:00:00      0.0     23.7     89.0\n",
              "3            3  2021-07-07 03:00:00      0.0     23.6     89.0\n",
              "4            4  2021-07-07 04:00:00      0.0     23.3     89.0\n",
              "5            5  2021-07-07 05:00:00      0.0     23.5     89.0\n",
              "6            6  2021-07-07 06:00:00      0.0     23.3     89.0\n",
              "7            7  2021-07-07 07:00:00      0.0     23.1     89.0\n",
              "8            8  2021-07-07 08:00:00      0.0     22.9     89.0\n",
              "9            9  2021-07-07 09:00:00      0.0     22.8     89.0\n",
              "10          10  2021-07-07 10:00:00     31.8     23.2     89.0\n",
              "11          11  2021-07-07 11:00:00    330.7     25.4     97.0\n",
              "12          12  2021-07-07 12:00:00   1195.8     28.7     74.0\n",
              "13          13  2021-07-07 13:00:00   1800.6     29.5     69.0\n",
              "14          14  2021-07-07 14:00:00   1792.1     29.7     67.0\n",
              "15          15  2021-07-07 15:00:00   2498.0     31.6     62.0\n",
              "16          16  2021-07-07 16:00:00   1991.1     30.5     66.0\n",
              "17          17  2021-07-07 17:00:00   1654.8     30.8     64.0\n",
              "18          18  2021-07-07 18:00:00   2004.2     32.4     60.0\n",
              "19          19  2021-07-07 19:00:00   1868.5     32.1     59.0"
            ],
            "text/html": [
              "\n",
              "  <div id=\"df-b7fb83a4-6cfd-44b1-9b06-62affe986dbf\">\n",
              "    <div class=\"colab-df-container\">\n",
              "      <div>\n",
              "<style scoped>\n",
              "    .dataframe tbody tr th:only-of-type {\n",
              "        vertical-align: middle;\n",
              "    }\n",
              "\n",
              "    .dataframe tbody tr th {\n",
              "        vertical-align: top;\n",
              "    }\n",
              "\n",
              "    .dataframe thead th {\n",
              "        text-align: right;\n",
              "    }\n",
              "</style>\n",
              "<table border=\"1\" class=\"dataframe\">\n",
              "  <thead>\n",
              "    <tr style=\"text-align: right;\">\n",
              "      <th></th>\n",
              "      <th>Unnamed: 0</th>\n",
              "      <th>TIME_STAMP</th>\n",
              "      <th>RAD_GLO</th>\n",
              "      <th>TEM_INS</th>\n",
              "      <th>UMD_INS</th>\n",
              "    </tr>\n",
              "  </thead>\n",
              "  <tbody>\n",
              "    <tr>\n",
              "      <th>0</th>\n",
              "      <td>0</td>\n",
              "      <td>2021-07-07 00:00:00</td>\n",
              "      <td>0.8</td>\n",
              "      <td>23.8</td>\n",
              "      <td>89.0</td>\n",
              "    </tr>\n",
              "    <tr>\n",
              "      <th>1</th>\n",
              "      <td>1</td>\n",
              "      <td>2021-07-07 01:00:00</td>\n",
              "      <td>1.8</td>\n",
              "      <td>23.8</td>\n",
              "      <td>89.0</td>\n",
              "    </tr>\n",
              "    <tr>\n",
              "      <th>2</th>\n",
              "      <td>2</td>\n",
              "      <td>2021-07-07 02:00:00</td>\n",
              "      <td>0.0</td>\n",
              "      <td>23.7</td>\n",
              "      <td>89.0</td>\n",
              "    </tr>\n",
              "    <tr>\n",
              "      <th>3</th>\n",
              "      <td>3</td>\n",
              "      <td>2021-07-07 03:00:00</td>\n",
              "      <td>0.0</td>\n",
              "      <td>23.6</td>\n",
              "      <td>89.0</td>\n",
              "    </tr>\n",
              "    <tr>\n",
              "      <th>4</th>\n",
              "      <td>4</td>\n",
              "      <td>2021-07-07 04:00:00</td>\n",
              "      <td>0.0</td>\n",
              "      <td>23.3</td>\n",
              "      <td>89.0</td>\n",
              "    </tr>\n",
              "    <tr>\n",
              "      <th>5</th>\n",
              "      <td>5</td>\n",
              "      <td>2021-07-07 05:00:00</td>\n",
              "      <td>0.0</td>\n",
              "      <td>23.5</td>\n",
              "      <td>89.0</td>\n",
              "    </tr>\n",
              "    <tr>\n",
              "      <th>6</th>\n",
              "      <td>6</td>\n",
              "      <td>2021-07-07 06:00:00</td>\n",
              "      <td>0.0</td>\n",
              "      <td>23.3</td>\n",
              "      <td>89.0</td>\n",
              "    </tr>\n",
              "    <tr>\n",
              "      <th>7</th>\n",
              "      <td>7</td>\n",
              "      <td>2021-07-07 07:00:00</td>\n",
              "      <td>0.0</td>\n",
              "      <td>23.1</td>\n",
              "      <td>89.0</td>\n",
              "    </tr>\n",
              "    <tr>\n",
              "      <th>8</th>\n",
              "      <td>8</td>\n",
              "      <td>2021-07-07 08:00:00</td>\n",
              "      <td>0.0</td>\n",
              "      <td>22.9</td>\n",
              "      <td>89.0</td>\n",
              "    </tr>\n",
              "    <tr>\n",
              "      <th>9</th>\n",
              "      <td>9</td>\n",
              "      <td>2021-07-07 09:00:00</td>\n",
              "      <td>0.0</td>\n",
              "      <td>22.8</td>\n",
              "      <td>89.0</td>\n",
              "    </tr>\n",
              "    <tr>\n",
              "      <th>10</th>\n",
              "      <td>10</td>\n",
              "      <td>2021-07-07 10:00:00</td>\n",
              "      <td>31.8</td>\n",
              "      <td>23.2</td>\n",
              "      <td>89.0</td>\n",
              "    </tr>\n",
              "    <tr>\n",
              "      <th>11</th>\n",
              "      <td>11</td>\n",
              "      <td>2021-07-07 11:00:00</td>\n",
              "      <td>330.7</td>\n",
              "      <td>25.4</td>\n",
              "      <td>97.0</td>\n",
              "    </tr>\n",
              "    <tr>\n",
              "      <th>12</th>\n",
              "      <td>12</td>\n",
              "      <td>2021-07-07 12:00:00</td>\n",
              "      <td>1195.8</td>\n",
              "      <td>28.7</td>\n",
              "      <td>74.0</td>\n",
              "    </tr>\n",
              "    <tr>\n",
              "      <th>13</th>\n",
              "      <td>13</td>\n",
              "      <td>2021-07-07 13:00:00</td>\n",
              "      <td>1800.6</td>\n",
              "      <td>29.5</td>\n",
              "      <td>69.0</td>\n",
              "    </tr>\n",
              "    <tr>\n",
              "      <th>14</th>\n",
              "      <td>14</td>\n",
              "      <td>2021-07-07 14:00:00</td>\n",
              "      <td>1792.1</td>\n",
              "      <td>29.7</td>\n",
              "      <td>67.0</td>\n",
              "    </tr>\n",
              "    <tr>\n",
              "      <th>15</th>\n",
              "      <td>15</td>\n",
              "      <td>2021-07-07 15:00:00</td>\n",
              "      <td>2498.0</td>\n",
              "      <td>31.6</td>\n",
              "      <td>62.0</td>\n",
              "    </tr>\n",
              "    <tr>\n",
              "      <th>16</th>\n",
              "      <td>16</td>\n",
              "      <td>2021-07-07 16:00:00</td>\n",
              "      <td>1991.1</td>\n",
              "      <td>30.5</td>\n",
              "      <td>66.0</td>\n",
              "    </tr>\n",
              "    <tr>\n",
              "      <th>17</th>\n",
              "      <td>17</td>\n",
              "      <td>2021-07-07 17:00:00</td>\n",
              "      <td>1654.8</td>\n",
              "      <td>30.8</td>\n",
              "      <td>64.0</td>\n",
              "    </tr>\n",
              "    <tr>\n",
              "      <th>18</th>\n",
              "      <td>18</td>\n",
              "      <td>2021-07-07 18:00:00</td>\n",
              "      <td>2004.2</td>\n",
              "      <td>32.4</td>\n",
              "      <td>60.0</td>\n",
              "    </tr>\n",
              "    <tr>\n",
              "      <th>19</th>\n",
              "      <td>19</td>\n",
              "      <td>2021-07-07 19:00:00</td>\n",
              "      <td>1868.5</td>\n",
              "      <td>32.1</td>\n",
              "      <td>59.0</td>\n",
              "    </tr>\n",
              "  </tbody>\n",
              "</table>\n",
              "</div>\n",
              "      <button class=\"colab-df-convert\" onclick=\"convertToInteractive('df-b7fb83a4-6cfd-44b1-9b06-62affe986dbf')\"\n",
              "              title=\"Convert this dataframe to an interactive table.\"\n",
              "              style=\"display:none;\">\n",
              "        \n",
              "  <svg xmlns=\"http://www.w3.org/2000/svg\" height=\"24px\"viewBox=\"0 0 24 24\"\n",
              "       width=\"24px\">\n",
              "    <path d=\"M0 0h24v24H0V0z\" fill=\"none\"/>\n",
              "    <path d=\"M18.56 5.44l.94 2.06.94-2.06 2.06-.94-2.06-.94-.94-2.06-.94 2.06-2.06.94zm-11 1L8.5 8.5l.94-2.06 2.06-.94-2.06-.94L8.5 2.5l-.94 2.06-2.06.94zm10 10l.94 2.06.94-2.06 2.06-.94-2.06-.94-.94-2.06-.94 2.06-2.06.94z\"/><path d=\"M17.41 7.96l-1.37-1.37c-.4-.4-.92-.59-1.43-.59-.52 0-1.04.2-1.43.59L10.3 9.45l-7.72 7.72c-.78.78-.78 2.05 0 2.83L4 21.41c.39.39.9.59 1.41.59.51 0 1.02-.2 1.41-.59l7.78-7.78 2.81-2.81c.8-.78.8-2.07 0-2.86zM5.41 20L4 18.59l7.72-7.72 1.47 1.35L5.41 20z\"/>\n",
              "  </svg>\n",
              "      </button>\n",
              "      \n",
              "  <style>\n",
              "    .colab-df-container {\n",
              "      display:flex;\n",
              "      flex-wrap:wrap;\n",
              "      gap: 12px;\n",
              "    }\n",
              "\n",
              "    .colab-df-convert {\n",
              "      background-color: #E8F0FE;\n",
              "      border: none;\n",
              "      border-radius: 50%;\n",
              "      cursor: pointer;\n",
              "      display: none;\n",
              "      fill: #1967D2;\n",
              "      height: 32px;\n",
              "      padding: 0 0 0 0;\n",
              "      width: 32px;\n",
              "    }\n",
              "\n",
              "    .colab-df-convert:hover {\n",
              "      background-color: #E2EBFA;\n",
              "      box-shadow: 0px 1px 2px rgba(60, 64, 67, 0.3), 0px 1px 3px 1px rgba(60, 64, 67, 0.15);\n",
              "      fill: #174EA6;\n",
              "    }\n",
              "\n",
              "    [theme=dark] .colab-df-convert {\n",
              "      background-color: #3B4455;\n",
              "      fill: #D2E3FC;\n",
              "    }\n",
              "\n",
              "    [theme=dark] .colab-df-convert:hover {\n",
              "      background-color: #434B5C;\n",
              "      box-shadow: 0px 1px 3px 1px rgba(0, 0, 0, 0.15);\n",
              "      filter: drop-shadow(0px 1px 2px rgba(0, 0, 0, 0.3));\n",
              "      fill: #FFFFFF;\n",
              "    }\n",
              "  </style>\n",
              "\n",
              "      <script>\n",
              "        const buttonEl =\n",
              "          document.querySelector('#df-b7fb83a4-6cfd-44b1-9b06-62affe986dbf button.colab-df-convert');\n",
              "        buttonEl.style.display =\n",
              "          google.colab.kernel.accessAllowed ? 'block' : 'none';\n",
              "\n",
              "        async function convertToInteractive(key) {\n",
              "          const element = document.querySelector('#df-b7fb83a4-6cfd-44b1-9b06-62affe986dbf');\n",
              "          const dataTable =\n",
              "            await google.colab.kernel.invokeFunction('convertToInteractive',\n",
              "                                                     [key], {});\n",
              "          if (!dataTable) return;\n",
              "\n",
              "          const docLinkHtml = 'Like what you see? Visit the ' +\n",
              "            '<a target=\"_blank\" href=https://colab.research.google.com/notebooks/data_table.ipynb>data table notebook</a>'\n",
              "            + ' to learn more about interactive tables.';\n",
              "          element.innerHTML = '';\n",
              "          dataTable['output_type'] = 'display_data';\n",
              "          await google.colab.output.renderOutput(dataTable, element);\n",
              "          const docLink = document.createElement('div');\n",
              "          docLink.innerHTML = docLinkHtml;\n",
              "          element.appendChild(docLink);\n",
              "        }\n",
              "      </script>\n",
              "    </div>\n",
              "  </div>\n",
              "  "
            ]
          },
          "metadata": {},
          "execution_count": 534
        }
      ]
    },
    {
      "cell_type": "markdown",
      "source": [
        "Seleção das futuras colunas de data a serem nomeadas (ds) e (y)"
      ],
      "metadata": {
        "id": "KlTaDF05cr_C"
      }
    },
    {
      "cell_type": "code",
      "source": [
        "df=df[[\"TIME_STAMP\",\"RAD_GLO\"]]\n",
        "df.head(20)"
      ],
      "metadata": {
        "colab": {
          "base_uri": "https://localhost:8080/",
          "height": 676
        },
        "id": "3nvohrGScOFc",
        "outputId": "b50445d4-1c9e-4963-aa32-7a16fb99845a"
      },
      "execution_count": null,
      "outputs": [
        {
          "output_type": "execute_result",
          "data": {
            "text/plain": [
              "             TIME_STAMP  RAD_GLO\n",
              "0   2021-07-07 00:00:00      0.8\n",
              "1   2021-07-07 01:00:00      1.8\n",
              "2   2021-07-07 02:00:00      0.0\n",
              "3   2021-07-07 03:00:00      0.0\n",
              "4   2021-07-07 04:00:00      0.0\n",
              "5   2021-07-07 05:00:00      0.0\n",
              "6   2021-07-07 06:00:00      0.0\n",
              "7   2021-07-07 07:00:00      0.0\n",
              "8   2021-07-07 08:00:00      0.0\n",
              "9   2021-07-07 09:00:00      0.0\n",
              "10  2021-07-07 10:00:00     31.8\n",
              "11  2021-07-07 11:00:00    330.7\n",
              "12  2021-07-07 12:00:00   1195.8\n",
              "13  2021-07-07 13:00:00   1800.6\n",
              "14  2021-07-07 14:00:00   1792.1\n",
              "15  2021-07-07 15:00:00   2498.0\n",
              "16  2021-07-07 16:00:00   1991.1\n",
              "17  2021-07-07 17:00:00   1654.8\n",
              "18  2021-07-07 18:00:00   2004.2\n",
              "19  2021-07-07 19:00:00   1868.5"
            ],
            "text/html": [
              "\n",
              "  <div id=\"df-b712b713-f5e2-4856-b8e7-1e3b3174583e\">\n",
              "    <div class=\"colab-df-container\">\n",
              "      <div>\n",
              "<style scoped>\n",
              "    .dataframe tbody tr th:only-of-type {\n",
              "        vertical-align: middle;\n",
              "    }\n",
              "\n",
              "    .dataframe tbody tr th {\n",
              "        vertical-align: top;\n",
              "    }\n",
              "\n",
              "    .dataframe thead th {\n",
              "        text-align: right;\n",
              "    }\n",
              "</style>\n",
              "<table border=\"1\" class=\"dataframe\">\n",
              "  <thead>\n",
              "    <tr style=\"text-align: right;\">\n",
              "      <th></th>\n",
              "      <th>TIME_STAMP</th>\n",
              "      <th>RAD_GLO</th>\n",
              "    </tr>\n",
              "  </thead>\n",
              "  <tbody>\n",
              "    <tr>\n",
              "      <th>0</th>\n",
              "      <td>2021-07-07 00:00:00</td>\n",
              "      <td>0.8</td>\n",
              "    </tr>\n",
              "    <tr>\n",
              "      <th>1</th>\n",
              "      <td>2021-07-07 01:00:00</td>\n",
              "      <td>1.8</td>\n",
              "    </tr>\n",
              "    <tr>\n",
              "      <th>2</th>\n",
              "      <td>2021-07-07 02:00:00</td>\n",
              "      <td>0.0</td>\n",
              "    </tr>\n",
              "    <tr>\n",
              "      <th>3</th>\n",
              "      <td>2021-07-07 03:00:00</td>\n",
              "      <td>0.0</td>\n",
              "    </tr>\n",
              "    <tr>\n",
              "      <th>4</th>\n",
              "      <td>2021-07-07 04:00:00</td>\n",
              "      <td>0.0</td>\n",
              "    </tr>\n",
              "    <tr>\n",
              "      <th>5</th>\n",
              "      <td>2021-07-07 05:00:00</td>\n",
              "      <td>0.0</td>\n",
              "    </tr>\n",
              "    <tr>\n",
              "      <th>6</th>\n",
              "      <td>2021-07-07 06:00:00</td>\n",
              "      <td>0.0</td>\n",
              "    </tr>\n",
              "    <tr>\n",
              "      <th>7</th>\n",
              "      <td>2021-07-07 07:00:00</td>\n",
              "      <td>0.0</td>\n",
              "    </tr>\n",
              "    <tr>\n",
              "      <th>8</th>\n",
              "      <td>2021-07-07 08:00:00</td>\n",
              "      <td>0.0</td>\n",
              "    </tr>\n",
              "    <tr>\n",
              "      <th>9</th>\n",
              "      <td>2021-07-07 09:00:00</td>\n",
              "      <td>0.0</td>\n",
              "    </tr>\n",
              "    <tr>\n",
              "      <th>10</th>\n",
              "      <td>2021-07-07 10:00:00</td>\n",
              "      <td>31.8</td>\n",
              "    </tr>\n",
              "    <tr>\n",
              "      <th>11</th>\n",
              "      <td>2021-07-07 11:00:00</td>\n",
              "      <td>330.7</td>\n",
              "    </tr>\n",
              "    <tr>\n",
              "      <th>12</th>\n",
              "      <td>2021-07-07 12:00:00</td>\n",
              "      <td>1195.8</td>\n",
              "    </tr>\n",
              "    <tr>\n",
              "      <th>13</th>\n",
              "      <td>2021-07-07 13:00:00</td>\n",
              "      <td>1800.6</td>\n",
              "    </tr>\n",
              "    <tr>\n",
              "      <th>14</th>\n",
              "      <td>2021-07-07 14:00:00</td>\n",
              "      <td>1792.1</td>\n",
              "    </tr>\n",
              "    <tr>\n",
              "      <th>15</th>\n",
              "      <td>2021-07-07 15:00:00</td>\n",
              "      <td>2498.0</td>\n",
              "    </tr>\n",
              "    <tr>\n",
              "      <th>16</th>\n",
              "      <td>2021-07-07 16:00:00</td>\n",
              "      <td>1991.1</td>\n",
              "    </tr>\n",
              "    <tr>\n",
              "      <th>17</th>\n",
              "      <td>2021-07-07 17:00:00</td>\n",
              "      <td>1654.8</td>\n",
              "    </tr>\n",
              "    <tr>\n",
              "      <th>18</th>\n",
              "      <td>2021-07-07 18:00:00</td>\n",
              "      <td>2004.2</td>\n",
              "    </tr>\n",
              "    <tr>\n",
              "      <th>19</th>\n",
              "      <td>2021-07-07 19:00:00</td>\n",
              "      <td>1868.5</td>\n",
              "    </tr>\n",
              "  </tbody>\n",
              "</table>\n",
              "</div>\n",
              "      <button class=\"colab-df-convert\" onclick=\"convertToInteractive('df-b712b713-f5e2-4856-b8e7-1e3b3174583e')\"\n",
              "              title=\"Convert this dataframe to an interactive table.\"\n",
              "              style=\"display:none;\">\n",
              "        \n",
              "  <svg xmlns=\"http://www.w3.org/2000/svg\" height=\"24px\"viewBox=\"0 0 24 24\"\n",
              "       width=\"24px\">\n",
              "    <path d=\"M0 0h24v24H0V0z\" fill=\"none\"/>\n",
              "    <path d=\"M18.56 5.44l.94 2.06.94-2.06 2.06-.94-2.06-.94-.94-2.06-.94 2.06-2.06.94zm-11 1L8.5 8.5l.94-2.06 2.06-.94-2.06-.94L8.5 2.5l-.94 2.06-2.06.94zm10 10l.94 2.06.94-2.06 2.06-.94-2.06-.94-.94-2.06-.94 2.06-2.06.94z\"/><path d=\"M17.41 7.96l-1.37-1.37c-.4-.4-.92-.59-1.43-.59-.52 0-1.04.2-1.43.59L10.3 9.45l-7.72 7.72c-.78.78-.78 2.05 0 2.83L4 21.41c.39.39.9.59 1.41.59.51 0 1.02-.2 1.41-.59l7.78-7.78 2.81-2.81c.8-.78.8-2.07 0-2.86zM5.41 20L4 18.59l7.72-7.72 1.47 1.35L5.41 20z\"/>\n",
              "  </svg>\n",
              "      </button>\n",
              "      \n",
              "  <style>\n",
              "    .colab-df-container {\n",
              "      display:flex;\n",
              "      flex-wrap:wrap;\n",
              "      gap: 12px;\n",
              "    }\n",
              "\n",
              "    .colab-df-convert {\n",
              "      background-color: #E8F0FE;\n",
              "      border: none;\n",
              "      border-radius: 50%;\n",
              "      cursor: pointer;\n",
              "      display: none;\n",
              "      fill: #1967D2;\n",
              "      height: 32px;\n",
              "      padding: 0 0 0 0;\n",
              "      width: 32px;\n",
              "    }\n",
              "\n",
              "    .colab-df-convert:hover {\n",
              "      background-color: #E2EBFA;\n",
              "      box-shadow: 0px 1px 2px rgba(60, 64, 67, 0.3), 0px 1px 3px 1px rgba(60, 64, 67, 0.15);\n",
              "      fill: #174EA6;\n",
              "    }\n",
              "\n",
              "    [theme=dark] .colab-df-convert {\n",
              "      background-color: #3B4455;\n",
              "      fill: #D2E3FC;\n",
              "    }\n",
              "\n",
              "    [theme=dark] .colab-df-convert:hover {\n",
              "      background-color: #434B5C;\n",
              "      box-shadow: 0px 1px 3px 1px rgba(0, 0, 0, 0.15);\n",
              "      filter: drop-shadow(0px 1px 2px rgba(0, 0, 0, 0.3));\n",
              "      fill: #FFFFFF;\n",
              "    }\n",
              "  </style>\n",
              "\n",
              "      <script>\n",
              "        const buttonEl =\n",
              "          document.querySelector('#df-b712b713-f5e2-4856-b8e7-1e3b3174583e button.colab-df-convert');\n",
              "        buttonEl.style.display =\n",
              "          google.colab.kernel.accessAllowed ? 'block' : 'none';\n",
              "\n",
              "        async function convertToInteractive(key) {\n",
              "          const element = document.querySelector('#df-b712b713-f5e2-4856-b8e7-1e3b3174583e');\n",
              "          const dataTable =\n",
              "            await google.colab.kernel.invokeFunction('convertToInteractive',\n",
              "                                                     [key], {});\n",
              "          if (!dataTable) return;\n",
              "\n",
              "          const docLinkHtml = 'Like what you see? Visit the ' +\n",
              "            '<a target=\"_blank\" href=https://colab.research.google.com/notebooks/data_table.ipynb>data table notebook</a>'\n",
              "            + ' to learn more about interactive tables.';\n",
              "          element.innerHTML = '';\n",
              "          dataTable['output_type'] = 'display_data';\n",
              "          await google.colab.output.renderOutput(dataTable, element);\n",
              "          const docLink = document.createElement('div');\n",
              "          docLink.innerHTML = docLinkHtml;\n",
              "          element.appendChild(docLink);\n",
              "        }\n",
              "      </script>\n",
              "    </div>\n",
              "  </div>\n",
              "  "
            ]
          },
          "metadata": {},
          "execution_count": 535
        }
      ]
    },
    {
      "cell_type": "markdown",
      "source": [
        "Atribuição das variáveis às colunas que são exigidas pelo Prophet"
      ],
      "metadata": {
        "id": "wmebHMgsc1KF"
      }
    },
    {
      "cell_type": "code",
      "source": [
        "df.columns = ['ds','y']"
      ],
      "metadata": {
        "id": "yoACDBH4cTJP"
      },
      "execution_count": null,
      "outputs": []
    },
    {
      "cell_type": "markdown",
      "source": [
        "Avaliação de conteúdo sem dados das colunas"
      ],
      "metadata": {
        "id": "_zkuzP8kdQYf"
      }
    },
    {
      "cell_type": "markdown",
      "source": [
        "Avaliação de conteúdo duplicado"
      ],
      "metadata": {
        "id": "u78aj8kzdlAY"
      }
    },
    {
      "cell_type": "markdown",
      "source": [
        "Geração de um período para teste e para treino"
      ],
      "metadata": {
        "id": "o28RftuZmtaz"
      }
    },
    {
      "cell_type": "code",
      "source": [
        "treino=df.iloc[8712:]\n",
        "test=df.iloc[8712:]\n",
        "\n",
        "#treino=df.iloc[0:47]\n",
        "#test=df.iloc[48:95]"
      ],
      "metadata": {
        "id": "J2jdAk95PQ6y"
      },
      "execution_count": null,
      "outputs": []
    },
    {
      "cell_type": "code",
      "source": [
        "df.iloc[8712]"
      ],
      "metadata": {
        "colab": {
          "base_uri": "https://localhost:8080/"
        },
        "id": "zeQA64xj24qu",
        "outputId": "7b10b458-f42c-4b75-dde1-69bb6951aae9"
      },
      "execution_count": null,
      "outputs": [
        {
          "output_type": "execute_result",
          "data": {
            "text/plain": [
              "ds    2022-07-05 00:00:00\n",
              "y                     0.7\n",
              "Name: 8712, dtype: object"
            ]
          },
          "metadata": {},
          "execution_count": 604
        }
      ]
    },
    {
      "cell_type": "markdown",
      "source": [
        "# Previsão de dados\n",
        "\n",
        "Comandos para a previsão de dados"
      ],
      "metadata": {
        "id": "0Z4jW5Z8NuZG"
      }
    },
    {
      "cell_type": "markdown",
      "source": [
        "Incialmente vamos dividir esses dados em um período de treino e o período de teste, para então fazer a execução dos comandos. Os dados são coletados diariamente e a cada hora no período de um ano entre 03/2021 e 03/2022\n",
        "\n"
      ],
      "metadata": {
        "id": "eOZoC6ydszkP"
      }
    },
    {
      "cell_type": "markdown",
      "source": [
        "Instanciando o o prophet e fazendo o treino"
      ],
      "metadata": {
        "id": "ISF23vyJof6i"
      }
    },
    {
      "cell_type": "code",
      "source": [
        "m = Prophet()\n",
        "m.fit(treino)\n"
      ],
      "metadata": {
        "id": "gp1v-mcSBlUW",
        "colab": {
          "base_uri": "https://localhost:8080/"
        },
        "outputId": "61afa206-4ee8-415c-f810-7ea54b99c907"
      },
      "execution_count": null,
      "outputs": [
        {
          "output_type": "stream",
          "name": "stderr",
          "text": [
            "INFO:fbprophet:Disabling yearly seasonality. Run prophet with yearly_seasonality=True to override this.\n",
            "INFO:fbprophet:Disabling weekly seasonality. Run prophet with weekly_seasonality=True to override this.\n"
          ]
        },
        {
          "output_type": "execute_result",
          "data": {
            "text/plain": [
              "<fbprophet.forecaster.Prophet at 0x7f3e2aedf610>"
            ]
          },
          "metadata": {},
          "execution_count": 624
        }
      ]
    },
    {
      "cell_type": "code",
      "source": [
        "m.make_future_dataframe"
      ],
      "metadata": {
        "colab": {
          "base_uri": "https://localhost:8080/"
        },
        "id": "h1tIKEvO8WKm",
        "outputId": "71294791-7739-47e8-87cf-2b39cfa7d0b3"
      },
      "execution_count": null,
      "outputs": [
        {
          "output_type": "execute_result",
          "data": {
            "text/plain": [
              "<bound method Prophet.make_future_dataframe of <fbprophet.forecaster.Prophet object at 0x7f3e2aedf610>>"
            ]
          },
          "metadata": {},
          "execution_count": 625
        }
      ]
    },
    {
      "cell_type": "code",
      "source": [
        "future = m.make_future_dataframe(48, include_history=False,freq='H')\n",
        "future.tail(24)"
      ],
      "metadata": {
        "colab": {
          "base_uri": "https://localhost:8080/",
          "height": 801
        },
        "id": "RNwkbGTVajXl",
        "outputId": "342da27d-2e99-4fd6-c0c4-a645db02de3f"
      },
      "execution_count": null,
      "outputs": [
        {
          "output_type": "execute_result",
          "data": {
            "text/plain": [
              "                    ds\n",
              "24 2022-07-09 00:00:00\n",
              "25 2022-07-09 01:00:00\n",
              "26 2022-07-09 02:00:00\n",
              "27 2022-07-09 03:00:00\n",
              "28 2022-07-09 04:00:00\n",
              "29 2022-07-09 05:00:00\n",
              "30 2022-07-09 06:00:00\n",
              "31 2022-07-09 07:00:00\n",
              "32 2022-07-09 08:00:00\n",
              "33 2022-07-09 09:00:00\n",
              "34 2022-07-09 10:00:00\n",
              "35 2022-07-09 11:00:00\n",
              "36 2022-07-09 12:00:00\n",
              "37 2022-07-09 13:00:00\n",
              "38 2022-07-09 14:00:00\n",
              "39 2022-07-09 15:00:00\n",
              "40 2022-07-09 16:00:00\n",
              "41 2022-07-09 17:00:00\n",
              "42 2022-07-09 18:00:00\n",
              "43 2022-07-09 19:00:00\n",
              "44 2022-07-09 20:00:00\n",
              "45 2022-07-09 21:00:00\n",
              "46 2022-07-09 22:00:00\n",
              "47 2022-07-09 23:00:00"
            ],
            "text/html": [
              "\n",
              "  <div id=\"df-9512ee23-8f55-4fc0-b612-974512a36d1f\">\n",
              "    <div class=\"colab-df-container\">\n",
              "      <div>\n",
              "<style scoped>\n",
              "    .dataframe tbody tr th:only-of-type {\n",
              "        vertical-align: middle;\n",
              "    }\n",
              "\n",
              "    .dataframe tbody tr th {\n",
              "        vertical-align: top;\n",
              "    }\n",
              "\n",
              "    .dataframe thead th {\n",
              "        text-align: right;\n",
              "    }\n",
              "</style>\n",
              "<table border=\"1\" class=\"dataframe\">\n",
              "  <thead>\n",
              "    <tr style=\"text-align: right;\">\n",
              "      <th></th>\n",
              "      <th>ds</th>\n",
              "    </tr>\n",
              "  </thead>\n",
              "  <tbody>\n",
              "    <tr>\n",
              "      <th>24</th>\n",
              "      <td>2022-07-09 00:00:00</td>\n",
              "    </tr>\n",
              "    <tr>\n",
              "      <th>25</th>\n",
              "      <td>2022-07-09 01:00:00</td>\n",
              "    </tr>\n",
              "    <tr>\n",
              "      <th>26</th>\n",
              "      <td>2022-07-09 02:00:00</td>\n",
              "    </tr>\n",
              "    <tr>\n",
              "      <th>27</th>\n",
              "      <td>2022-07-09 03:00:00</td>\n",
              "    </tr>\n",
              "    <tr>\n",
              "      <th>28</th>\n",
              "      <td>2022-07-09 04:00:00</td>\n",
              "    </tr>\n",
              "    <tr>\n",
              "      <th>29</th>\n",
              "      <td>2022-07-09 05:00:00</td>\n",
              "    </tr>\n",
              "    <tr>\n",
              "      <th>30</th>\n",
              "      <td>2022-07-09 06:00:00</td>\n",
              "    </tr>\n",
              "    <tr>\n",
              "      <th>31</th>\n",
              "      <td>2022-07-09 07:00:00</td>\n",
              "    </tr>\n",
              "    <tr>\n",
              "      <th>32</th>\n",
              "      <td>2022-07-09 08:00:00</td>\n",
              "    </tr>\n",
              "    <tr>\n",
              "      <th>33</th>\n",
              "      <td>2022-07-09 09:00:00</td>\n",
              "    </tr>\n",
              "    <tr>\n",
              "      <th>34</th>\n",
              "      <td>2022-07-09 10:00:00</td>\n",
              "    </tr>\n",
              "    <tr>\n",
              "      <th>35</th>\n",
              "      <td>2022-07-09 11:00:00</td>\n",
              "    </tr>\n",
              "    <tr>\n",
              "      <th>36</th>\n",
              "      <td>2022-07-09 12:00:00</td>\n",
              "    </tr>\n",
              "    <tr>\n",
              "      <th>37</th>\n",
              "      <td>2022-07-09 13:00:00</td>\n",
              "    </tr>\n",
              "    <tr>\n",
              "      <th>38</th>\n",
              "      <td>2022-07-09 14:00:00</td>\n",
              "    </tr>\n",
              "    <tr>\n",
              "      <th>39</th>\n",
              "      <td>2022-07-09 15:00:00</td>\n",
              "    </tr>\n",
              "    <tr>\n",
              "      <th>40</th>\n",
              "      <td>2022-07-09 16:00:00</td>\n",
              "    </tr>\n",
              "    <tr>\n",
              "      <th>41</th>\n",
              "      <td>2022-07-09 17:00:00</td>\n",
              "    </tr>\n",
              "    <tr>\n",
              "      <th>42</th>\n",
              "      <td>2022-07-09 18:00:00</td>\n",
              "    </tr>\n",
              "    <tr>\n",
              "      <th>43</th>\n",
              "      <td>2022-07-09 19:00:00</td>\n",
              "    </tr>\n",
              "    <tr>\n",
              "      <th>44</th>\n",
              "      <td>2022-07-09 20:00:00</td>\n",
              "    </tr>\n",
              "    <tr>\n",
              "      <th>45</th>\n",
              "      <td>2022-07-09 21:00:00</td>\n",
              "    </tr>\n",
              "    <tr>\n",
              "      <th>46</th>\n",
              "      <td>2022-07-09 22:00:00</td>\n",
              "    </tr>\n",
              "    <tr>\n",
              "      <th>47</th>\n",
              "      <td>2022-07-09 23:00:00</td>\n",
              "    </tr>\n",
              "  </tbody>\n",
              "</table>\n",
              "</div>\n",
              "      <button class=\"colab-df-convert\" onclick=\"convertToInteractive('df-9512ee23-8f55-4fc0-b612-974512a36d1f')\"\n",
              "              title=\"Convert this dataframe to an interactive table.\"\n",
              "              style=\"display:none;\">\n",
              "        \n",
              "  <svg xmlns=\"http://www.w3.org/2000/svg\" height=\"24px\"viewBox=\"0 0 24 24\"\n",
              "       width=\"24px\">\n",
              "    <path d=\"M0 0h24v24H0V0z\" fill=\"none\"/>\n",
              "    <path d=\"M18.56 5.44l.94 2.06.94-2.06 2.06-.94-2.06-.94-.94-2.06-.94 2.06-2.06.94zm-11 1L8.5 8.5l.94-2.06 2.06-.94-2.06-.94L8.5 2.5l-.94 2.06-2.06.94zm10 10l.94 2.06.94-2.06 2.06-.94-2.06-.94-.94-2.06-.94 2.06-2.06.94z\"/><path d=\"M17.41 7.96l-1.37-1.37c-.4-.4-.92-.59-1.43-.59-.52 0-1.04.2-1.43.59L10.3 9.45l-7.72 7.72c-.78.78-.78 2.05 0 2.83L4 21.41c.39.39.9.59 1.41.59.51 0 1.02-.2 1.41-.59l7.78-7.78 2.81-2.81c.8-.78.8-2.07 0-2.86zM5.41 20L4 18.59l7.72-7.72 1.47 1.35L5.41 20z\"/>\n",
              "  </svg>\n",
              "      </button>\n",
              "      \n",
              "  <style>\n",
              "    .colab-df-container {\n",
              "      display:flex;\n",
              "      flex-wrap:wrap;\n",
              "      gap: 12px;\n",
              "    }\n",
              "\n",
              "    .colab-df-convert {\n",
              "      background-color: #E8F0FE;\n",
              "      border: none;\n",
              "      border-radius: 50%;\n",
              "      cursor: pointer;\n",
              "      display: none;\n",
              "      fill: #1967D2;\n",
              "      height: 32px;\n",
              "      padding: 0 0 0 0;\n",
              "      width: 32px;\n",
              "    }\n",
              "\n",
              "    .colab-df-convert:hover {\n",
              "      background-color: #E2EBFA;\n",
              "      box-shadow: 0px 1px 2px rgba(60, 64, 67, 0.3), 0px 1px 3px 1px rgba(60, 64, 67, 0.15);\n",
              "      fill: #174EA6;\n",
              "    }\n",
              "\n",
              "    [theme=dark] .colab-df-convert {\n",
              "      background-color: #3B4455;\n",
              "      fill: #D2E3FC;\n",
              "    }\n",
              "\n",
              "    [theme=dark] .colab-df-convert:hover {\n",
              "      background-color: #434B5C;\n",
              "      box-shadow: 0px 1px 3px 1px rgba(0, 0, 0, 0.15);\n",
              "      filter: drop-shadow(0px 1px 2px rgba(0, 0, 0, 0.3));\n",
              "      fill: #FFFFFF;\n",
              "    }\n",
              "  </style>\n",
              "\n",
              "      <script>\n",
              "        const buttonEl =\n",
              "          document.querySelector('#df-9512ee23-8f55-4fc0-b612-974512a36d1f button.colab-df-convert');\n",
              "        buttonEl.style.display =\n",
              "          google.colab.kernel.accessAllowed ? 'block' : 'none';\n",
              "\n",
              "        async function convertToInteractive(key) {\n",
              "          const element = document.querySelector('#df-9512ee23-8f55-4fc0-b612-974512a36d1f');\n",
              "          const dataTable =\n",
              "            await google.colab.kernel.invokeFunction('convertToInteractive',\n",
              "                                                     [key], {});\n",
              "          if (!dataTable) return;\n",
              "\n",
              "          const docLinkHtml = 'Like what you see? Visit the ' +\n",
              "            '<a target=\"_blank\" href=https://colab.research.google.com/notebooks/data_table.ipynb>data table notebook</a>'\n",
              "            + ' to learn more about interactive tables.';\n",
              "          element.innerHTML = '';\n",
              "          dataTable['output_type'] = 'display_data';\n",
              "          await google.colab.output.renderOutput(dataTable, element);\n",
              "          const docLink = document.createElement('div');\n",
              "          docLink.innerHTML = docLinkHtml;\n",
              "          element.appendChild(docLink);\n",
              "        }\n",
              "      </script>\n",
              "    </div>\n",
              "  </div>\n",
              "  "
            ]
          },
          "metadata": {},
          "execution_count": 626
        }
      ]
    },
    {
      "cell_type": "code",
      "source": [
        "f=m.predict(future)"
      ],
      "metadata": {
        "id": "H4U7KIMI8X49"
      },
      "execution_count": null,
      "outputs": []
    },
    {
      "cell_type": "code",
      "source": [
        "f.loc[f.yhat<0,'yhat']=0"
      ],
      "metadata": {
        "id": "s-xM49Sn3cgQ"
      },
      "execution_count": null,
      "outputs": []
    },
    {
      "cell_type": "code",
      "source": [
        "f[['ds', 'yhat', 'yhat_lower', 'yhat_upper']].tail(24)"
      ],
      "metadata": {
        "colab": {
          "base_uri": "https://localhost:8080/",
          "height": 801
        },
        "id": "NIGuq8mW6f8h",
        "outputId": "f61de094-c907-4eb1-a985-040d2249e23a"
      },
      "execution_count": null,
      "outputs": [
        {
          "output_type": "execute_result",
          "data": {
            "text/plain": [
              "                    ds         yhat   yhat_lower   yhat_upper\n",
              "24 2022-07-09 00:00:00     0.000000 -1333.891150  -595.449462\n",
              "25 2022-07-09 01:00:00     0.000000 -1367.471128  -615.446919\n",
              "26 2022-07-09 02:00:00     0.000000 -1376.374953  -628.549594\n",
              "27 2022-07-09 03:00:00     0.000000 -1388.667400  -666.107713\n",
              "28 2022-07-09 04:00:00     0.000000 -1412.112249  -704.584762\n",
              "29 2022-07-09 05:00:00     0.000000 -1420.512607  -715.095041\n",
              "30 2022-07-09 06:00:00     0.000000 -1449.791765  -691.519696\n",
              "31 2022-07-09 07:00:00     0.000000 -1446.724271  -729.169338\n",
              "32 2022-07-09 08:00:00     0.000000 -1485.924786  -726.539552\n",
              "33 2022-07-09 09:00:00     0.000000 -1472.584399  -736.166015\n",
              "34 2022-07-09 10:00:00     0.000000 -1429.883944  -684.460844\n",
              "35 2022-07-09 11:00:00     0.000000 -1190.508052  -463.086952\n",
              "36 2022-07-09 12:00:00     0.000000  -724.458969     5.038336\n",
              "37 2022-07-09 13:00:00   338.714177   -51.006173   694.671927\n",
              "38 2022-07-09 14:00:00  1055.582604   659.281942  1433.627097\n",
              "39 2022-07-09 15:00:00  1581.120830  1216.549888  1953.696663\n",
              "40 2022-07-09 16:00:00  1728.325414  1327.498699  2097.670868\n",
              "41 2022-07-09 17:00:00  1445.907781  1053.243677  1813.134407\n",
              "42 2022-07-09 18:00:00   840.463743   477.537758  1235.266727\n",
              "43 2022-07-09 19:00:00   114.787238  -276.270596   471.827775\n",
              "44 2022-07-09 20:00:00     0.000000  -929.959495  -160.704899\n",
              "45 2022-07-09 21:00:00     0.000000 -1385.011772  -622.158473\n",
              "46 2022-07-09 22:00:00     0.000000 -1640.880804  -851.602149\n",
              "47 2022-07-09 23:00:00     0.000000 -1748.227252  -994.608105"
            ],
            "text/html": [
              "\n",
              "  <div id=\"df-63770a7d-9514-4fd7-8ba9-f319d11c1f29\">\n",
              "    <div class=\"colab-df-container\">\n",
              "      <div>\n",
              "<style scoped>\n",
              "    .dataframe tbody tr th:only-of-type {\n",
              "        vertical-align: middle;\n",
              "    }\n",
              "\n",
              "    .dataframe tbody tr th {\n",
              "        vertical-align: top;\n",
              "    }\n",
              "\n",
              "    .dataframe thead th {\n",
              "        text-align: right;\n",
              "    }\n",
              "</style>\n",
              "<table border=\"1\" class=\"dataframe\">\n",
              "  <thead>\n",
              "    <tr style=\"text-align: right;\">\n",
              "      <th></th>\n",
              "      <th>ds</th>\n",
              "      <th>yhat</th>\n",
              "      <th>yhat_lower</th>\n",
              "      <th>yhat_upper</th>\n",
              "    </tr>\n",
              "  </thead>\n",
              "  <tbody>\n",
              "    <tr>\n",
              "      <th>24</th>\n",
              "      <td>2022-07-09 00:00:00</td>\n",
              "      <td>0.000000</td>\n",
              "      <td>-1333.891150</td>\n",
              "      <td>-595.449462</td>\n",
              "    </tr>\n",
              "    <tr>\n",
              "      <th>25</th>\n",
              "      <td>2022-07-09 01:00:00</td>\n",
              "      <td>0.000000</td>\n",
              "      <td>-1367.471128</td>\n",
              "      <td>-615.446919</td>\n",
              "    </tr>\n",
              "    <tr>\n",
              "      <th>26</th>\n",
              "      <td>2022-07-09 02:00:00</td>\n",
              "      <td>0.000000</td>\n",
              "      <td>-1376.374953</td>\n",
              "      <td>-628.549594</td>\n",
              "    </tr>\n",
              "    <tr>\n",
              "      <th>27</th>\n",
              "      <td>2022-07-09 03:00:00</td>\n",
              "      <td>0.000000</td>\n",
              "      <td>-1388.667400</td>\n",
              "      <td>-666.107713</td>\n",
              "    </tr>\n",
              "    <tr>\n",
              "      <th>28</th>\n",
              "      <td>2022-07-09 04:00:00</td>\n",
              "      <td>0.000000</td>\n",
              "      <td>-1412.112249</td>\n",
              "      <td>-704.584762</td>\n",
              "    </tr>\n",
              "    <tr>\n",
              "      <th>29</th>\n",
              "      <td>2022-07-09 05:00:00</td>\n",
              "      <td>0.000000</td>\n",
              "      <td>-1420.512607</td>\n",
              "      <td>-715.095041</td>\n",
              "    </tr>\n",
              "    <tr>\n",
              "      <th>30</th>\n",
              "      <td>2022-07-09 06:00:00</td>\n",
              "      <td>0.000000</td>\n",
              "      <td>-1449.791765</td>\n",
              "      <td>-691.519696</td>\n",
              "    </tr>\n",
              "    <tr>\n",
              "      <th>31</th>\n",
              "      <td>2022-07-09 07:00:00</td>\n",
              "      <td>0.000000</td>\n",
              "      <td>-1446.724271</td>\n",
              "      <td>-729.169338</td>\n",
              "    </tr>\n",
              "    <tr>\n",
              "      <th>32</th>\n",
              "      <td>2022-07-09 08:00:00</td>\n",
              "      <td>0.000000</td>\n",
              "      <td>-1485.924786</td>\n",
              "      <td>-726.539552</td>\n",
              "    </tr>\n",
              "    <tr>\n",
              "      <th>33</th>\n",
              "      <td>2022-07-09 09:00:00</td>\n",
              "      <td>0.000000</td>\n",
              "      <td>-1472.584399</td>\n",
              "      <td>-736.166015</td>\n",
              "    </tr>\n",
              "    <tr>\n",
              "      <th>34</th>\n",
              "      <td>2022-07-09 10:00:00</td>\n",
              "      <td>0.000000</td>\n",
              "      <td>-1429.883944</td>\n",
              "      <td>-684.460844</td>\n",
              "    </tr>\n",
              "    <tr>\n",
              "      <th>35</th>\n",
              "      <td>2022-07-09 11:00:00</td>\n",
              "      <td>0.000000</td>\n",
              "      <td>-1190.508052</td>\n",
              "      <td>-463.086952</td>\n",
              "    </tr>\n",
              "    <tr>\n",
              "      <th>36</th>\n",
              "      <td>2022-07-09 12:00:00</td>\n",
              "      <td>0.000000</td>\n",
              "      <td>-724.458969</td>\n",
              "      <td>5.038336</td>\n",
              "    </tr>\n",
              "    <tr>\n",
              "      <th>37</th>\n",
              "      <td>2022-07-09 13:00:00</td>\n",
              "      <td>338.714177</td>\n",
              "      <td>-51.006173</td>\n",
              "      <td>694.671927</td>\n",
              "    </tr>\n",
              "    <tr>\n",
              "      <th>38</th>\n",
              "      <td>2022-07-09 14:00:00</td>\n",
              "      <td>1055.582604</td>\n",
              "      <td>659.281942</td>\n",
              "      <td>1433.627097</td>\n",
              "    </tr>\n",
              "    <tr>\n",
              "      <th>39</th>\n",
              "      <td>2022-07-09 15:00:00</td>\n",
              "      <td>1581.120830</td>\n",
              "      <td>1216.549888</td>\n",
              "      <td>1953.696663</td>\n",
              "    </tr>\n",
              "    <tr>\n",
              "      <th>40</th>\n",
              "      <td>2022-07-09 16:00:00</td>\n",
              "      <td>1728.325414</td>\n",
              "      <td>1327.498699</td>\n",
              "      <td>2097.670868</td>\n",
              "    </tr>\n",
              "    <tr>\n",
              "      <th>41</th>\n",
              "      <td>2022-07-09 17:00:00</td>\n",
              "      <td>1445.907781</td>\n",
              "      <td>1053.243677</td>\n",
              "      <td>1813.134407</td>\n",
              "    </tr>\n",
              "    <tr>\n",
              "      <th>42</th>\n",
              "      <td>2022-07-09 18:00:00</td>\n",
              "      <td>840.463743</td>\n",
              "      <td>477.537758</td>\n",
              "      <td>1235.266727</td>\n",
              "    </tr>\n",
              "    <tr>\n",
              "      <th>43</th>\n",
              "      <td>2022-07-09 19:00:00</td>\n",
              "      <td>114.787238</td>\n",
              "      <td>-276.270596</td>\n",
              "      <td>471.827775</td>\n",
              "    </tr>\n",
              "    <tr>\n",
              "      <th>44</th>\n",
              "      <td>2022-07-09 20:00:00</td>\n",
              "      <td>0.000000</td>\n",
              "      <td>-929.959495</td>\n",
              "      <td>-160.704899</td>\n",
              "    </tr>\n",
              "    <tr>\n",
              "      <th>45</th>\n",
              "      <td>2022-07-09 21:00:00</td>\n",
              "      <td>0.000000</td>\n",
              "      <td>-1385.011772</td>\n",
              "      <td>-622.158473</td>\n",
              "    </tr>\n",
              "    <tr>\n",
              "      <th>46</th>\n",
              "      <td>2022-07-09 22:00:00</td>\n",
              "      <td>0.000000</td>\n",
              "      <td>-1640.880804</td>\n",
              "      <td>-851.602149</td>\n",
              "    </tr>\n",
              "    <tr>\n",
              "      <th>47</th>\n",
              "      <td>2022-07-09 23:00:00</td>\n",
              "      <td>0.000000</td>\n",
              "      <td>-1748.227252</td>\n",
              "      <td>-994.608105</td>\n",
              "    </tr>\n",
              "  </tbody>\n",
              "</table>\n",
              "</div>\n",
              "      <button class=\"colab-df-convert\" onclick=\"convertToInteractive('df-63770a7d-9514-4fd7-8ba9-f319d11c1f29')\"\n",
              "              title=\"Convert this dataframe to an interactive table.\"\n",
              "              style=\"display:none;\">\n",
              "        \n",
              "  <svg xmlns=\"http://www.w3.org/2000/svg\" height=\"24px\"viewBox=\"0 0 24 24\"\n",
              "       width=\"24px\">\n",
              "    <path d=\"M0 0h24v24H0V0z\" fill=\"none\"/>\n",
              "    <path d=\"M18.56 5.44l.94 2.06.94-2.06 2.06-.94-2.06-.94-.94-2.06-.94 2.06-2.06.94zm-11 1L8.5 8.5l.94-2.06 2.06-.94-2.06-.94L8.5 2.5l-.94 2.06-2.06.94zm10 10l.94 2.06.94-2.06 2.06-.94-2.06-.94-.94-2.06-.94 2.06-2.06.94z\"/><path d=\"M17.41 7.96l-1.37-1.37c-.4-.4-.92-.59-1.43-.59-.52 0-1.04.2-1.43.59L10.3 9.45l-7.72 7.72c-.78.78-.78 2.05 0 2.83L4 21.41c.39.39.9.59 1.41.59.51 0 1.02-.2 1.41-.59l7.78-7.78 2.81-2.81c.8-.78.8-2.07 0-2.86zM5.41 20L4 18.59l7.72-7.72 1.47 1.35L5.41 20z\"/>\n",
              "  </svg>\n",
              "      </button>\n",
              "      \n",
              "  <style>\n",
              "    .colab-df-container {\n",
              "      display:flex;\n",
              "      flex-wrap:wrap;\n",
              "      gap: 12px;\n",
              "    }\n",
              "\n",
              "    .colab-df-convert {\n",
              "      background-color: #E8F0FE;\n",
              "      border: none;\n",
              "      border-radius: 50%;\n",
              "      cursor: pointer;\n",
              "      display: none;\n",
              "      fill: #1967D2;\n",
              "      height: 32px;\n",
              "      padding: 0 0 0 0;\n",
              "      width: 32px;\n",
              "    }\n",
              "\n",
              "    .colab-df-convert:hover {\n",
              "      background-color: #E2EBFA;\n",
              "      box-shadow: 0px 1px 2px rgba(60, 64, 67, 0.3), 0px 1px 3px 1px rgba(60, 64, 67, 0.15);\n",
              "      fill: #174EA6;\n",
              "    }\n",
              "\n",
              "    [theme=dark] .colab-df-convert {\n",
              "      background-color: #3B4455;\n",
              "      fill: #D2E3FC;\n",
              "    }\n",
              "\n",
              "    [theme=dark] .colab-df-convert:hover {\n",
              "      background-color: #434B5C;\n",
              "      box-shadow: 0px 1px 3px 1px rgba(0, 0, 0, 0.15);\n",
              "      filter: drop-shadow(0px 1px 2px rgba(0, 0, 0, 0.3));\n",
              "      fill: #FFFFFF;\n",
              "    }\n",
              "  </style>\n",
              "\n",
              "      <script>\n",
              "        const buttonEl =\n",
              "          document.querySelector('#df-63770a7d-9514-4fd7-8ba9-f319d11c1f29 button.colab-df-convert');\n",
              "        buttonEl.style.display =\n",
              "          google.colab.kernel.accessAllowed ? 'block' : 'none';\n",
              "\n",
              "        async function convertToInteractive(key) {\n",
              "          const element = document.querySelector('#df-63770a7d-9514-4fd7-8ba9-f319d11c1f29');\n",
              "          const dataTable =\n",
              "            await google.colab.kernel.invokeFunction('convertToInteractive',\n",
              "                                                     [key], {});\n",
              "          if (!dataTable) return;\n",
              "\n",
              "          const docLinkHtml = 'Like what you see? Visit the ' +\n",
              "            '<a target=\"_blank\" href=https://colab.research.google.com/notebooks/data_table.ipynb>data table notebook</a>'\n",
              "            + ' to learn more about interactive tables.';\n",
              "          element.innerHTML = '';\n",
              "          dataTable['output_type'] = 'display_data';\n",
              "          await google.colab.output.renderOutput(dataTable, element);\n",
              "          const docLink = document.createElement('div');\n",
              "          docLink.innerHTML = docLinkHtml;\n",
              "          element.appendChild(docLink);\n",
              "        }\n",
              "      </script>\n",
              "    </div>\n",
              "  </div>\n",
              "  "
            ]
          },
          "metadata": {},
          "execution_count": 629
        }
      ]
    },
    {
      "cell_type": "code",
      "source": [
        "ypred = m.predict(test)"
      ],
      "metadata": {
        "id": "QswENHrjDFZf"
      },
      "execution_count": null,
      "outputs": []
    },
    {
      "cell_type": "code",
      "source": [
        ""
      ],
      "metadata": {
        "id": "24T-vxvm5blP"
      },
      "execution_count": null,
      "outputs": []
    },
    {
      "cell_type": "markdown",
      "source": [
        "#Validação de dados"
      ],
      "metadata": {
        "id": "dEA_txliSYOM"
      }
    },
    {
      "cell_type": "code",
      "source": [
        "print('MAE: {}'.format(metrics.mean_absolute_error(test['y'].values, ypred['yhat'].values)))"
      ],
      "metadata": {
        "colab": {
          "base_uri": "https://localhost:8080/"
        },
        "id": "FNNt1_aV-unR",
        "outputId": "86c93783-0fc5-43df-a90d-b3832ee89989"
      },
      "execution_count": null,
      "outputs": [
        {
          "output_type": "stream",
          "name": "stdout",
          "text": [
            "MAE: 193.62772425448472\n"
          ]
        }
      ]
    },
    {
      "cell_type": "code",
      "source": [
        "print('mase: {}'.format(metrics.mean_absolute_percentage_error(test['y'].values, ypred['yhat'].values)))"
      ],
      "metadata": {
        "colab": {
          "base_uri": "https://localhost:8080/"
        },
        "id": "_2OVJRiP5jSR",
        "outputId": "a725804b-4044-4546-ba2c-ce417cdeb372"
      },
      "execution_count": null,
      "outputs": [
        {
          "output_type": "stream",
          "name": "stdout",
          "text": [
            "mase: 1.323777656866891e+17\n"
          ]
        }
      ]
    },
    {
      "cell_type": "code",
      "source": [
        "f = f.rename(columns={'yhat': 'RAD_GLO'})\n",
        "d=f['RAD_GLO'].iloc[24:]\n",
        "d.head(24)\n",
        "d.to_csv('radiacao001')\n"
      ],
      "metadata": {
        "id": "oaPQlRm6skYs"
      },
      "execution_count": null,
      "outputs": []
    },
    {
      "cell_type": "code",
      "source": [
        "f.to_csv('RAD')"
      ],
      "metadata": {
        "id": "i0u5m-hpieta"
      },
      "execution_count": null,
      "outputs": []
    },
    {
      "cell_type": "code",
      "source": [
        "ypred['yhat'].describe"
      ],
      "metadata": {
        "id": "iIruH0_iCbVY",
        "colab": {
          "base_uri": "https://localhost:8080/"
        },
        "outputId": "fe34588e-af97-4cd1-db14-3250e3994d41"
      },
      "execution_count": null,
      "outputs": [
        {
          "output_type": "execute_result",
          "data": {
            "text/plain": [
              "<bound method NDFrame.describe of 0       55.639559\n",
              "1       47.755943\n",
              "2       41.370103\n",
              "3       35.273443\n",
              "4       36.240283\n",
              "         ...     \n",
              "67    1056.237810\n",
              "68     407.083660\n",
              "69     -53.796702\n",
              "70    -316.951563\n",
              "71    -438.779819\n",
              "Name: yhat, Length: 72, dtype: float64>"
            ]
          },
          "metadata": {},
          "execution_count": 635
        }
      ]
    },
    {
      "cell_type": "code",
      "source": [
        "test['y'].describe"
      ],
      "metadata": {
        "id": "8JJfvs9k-Pp6",
        "colab": {
          "base_uri": "https://localhost:8080/"
        },
        "outputId": "0c2e69be-5d0e-4fd6-a4b6-09d6d9bc2bcc"
      },
      "execution_count": null,
      "outputs": [
        {
          "output_type": "execute_result",
          "data": {
            "text/plain": [
              "<bound method NDFrame.describe of 8712      0.7\n",
              "8713      0.0\n",
              "8714      0.0\n",
              "8715      0.0\n",
              "8716      0.0\n",
              "        ...  \n",
              "8779    124.9\n",
              "8780     73.6\n",
              "8781     45.9\n",
              "8782      4.7\n",
              "8783      0.1\n",
              "Name: y, Length: 72, dtype: float64>"
            ]
          },
          "metadata": {},
          "execution_count": 636
        }
      ]
    },
    {
      "cell_type": "code",
      "source": [
        "test.shape, treino.shape"
      ],
      "metadata": {
        "colab": {
          "base_uri": "https://localhost:8080/"
        },
        "id": "kiynHOT9NC6g",
        "outputId": "02034b64-65e7-494b-c736-2162f6af600c"
      },
      "execution_count": null,
      "outputs": [
        {
          "output_type": "execute_result",
          "data": {
            "text/plain": [
              "((72, 2), (72, 2))"
            ]
          },
          "metadata": {},
          "execution_count": 637
        }
      ]
    },
    {
      "cell_type": "markdown",
      "source": [
        "Gráficos comparando y e yhat"
      ],
      "metadata": {
        "id": "-Az5t9D5L3Lh"
      }
    },
    {
      "cell_type": "markdown",
      "source": [
        "Outros modelos de gráficos"
      ],
      "metadata": {
        "id": "qbTikGBQL7CX"
      }
    },
    {
      "cell_type": "code",
      "source": [
        "import matplotlib.pyplot as plt\n",
        "\n",
        "plt.plot(range(len(test.y)),test.y)\n",
        "plt.plot(range(len(ypred.yhat)),ypred.yhat)\n",
        "#na.fill"
      ],
      "metadata": {
        "colab": {
          "base_uri": "https://localhost:8080/",
          "height": 284
        },
        "id": "eWFKvSsuJVIH",
        "outputId": "7f154547-3caa-4d41-9fa7-8b32a2800aa6"
      },
      "execution_count": null,
      "outputs": [
        {
          "output_type": "execute_result",
          "data": {
            "text/plain": [
              "[<matplotlib.lines.Line2D at 0x7f3e2a7abf50>]"
            ]
          },
          "metadata": {},
          "execution_count": 638
        },
        {
          "output_type": "display_data",
          "data": {
            "text/plain": [
              "<Figure size 432x288 with 1 Axes>"
            ],
            "image/png": "[encoded data removed]"
          },
          "metadata": {
            "needs_background": "light"
          }
        }
      ]
    },
    {
      "cell_type": "code",
      "source": [
        "cm=m.plot_components(ypred)"
      ],
      "metadata": {
        "id": "EERUJxJwL2J0",
        "colab": {
          "base_uri": "https://localhost:8080/",
          "height": 441
        },
        "outputId": "4c765ad8-90ac-4732-bd2c-123d062042f3"
      },
      "execution_count": null,
      "outputs": [
        {
          "output_type": "display_data",
          "data": {
            "text/plain": [
              "<Figure size 648x432 with 2 Axes>"
            ],
            "image/png": "[encoded data removed]"
          },
          "metadata": {}
        }
      ]
    },
    {
      "cell_type": "code",
      "source": [
        "#ypred.set_index('ds')['yhat'].plot(color='pink')\n",
        "#test.set_index('ds')['y'].plot(color='green')"
      ],
      "metadata": {
        "id": "vIjZkoCnbvtt"
      },
      "execution_count": null,
      "outputs": []
    },
    {
      "cell_type": "code",
      "source": [
        "\n",
        "test.set_index('ds')['y'].plot(color='green')"
      ],
      "metadata": {
        "id": "CtUpZJoWGZtB",
        "colab": {
          "base_uri": "https://localhost:8080/",
          "height": 298
        },
        "outputId": "2cac3ce9-c295-495e-ef31-b3ffd109245e"
      },
      "execution_count": null,
      "outputs": [
        {
          "output_type": "execute_result",
          "data": {
            "text/plain": [
              "<matplotlib.axes._subplots.AxesSubplot at 0x7f3e280c4210>"
            ]
          },
          "metadata": {},
          "execution_count": 641
        },
        {
          "output_type": "display_data",
          "data": {
            "text/plain": [
              "<Figure size 432x288 with 1 Axes>"
            ],
            "image/png": "[encoded data removed]"
          },
          "metadata": {
            "needs_background": "light"
          }
        }
      ]
    },
    {
      "cell_type": "markdown",
      "source": [
        "# Trasformação de dados"
      ],
      "metadata": {
        "id": "KWA-A3B7qSeN"
      }
    },
    {
      "cell_type": "markdown",
      "source": [
        "Geração de um agrupamento de colunas capaz de receber os valores de RAD_GLO \tTEM_INS \tUMD_INS \t"
      ],
      "metadata": {
        "id": "5J-ULqMdqZ7m"
      }
    },
    {
      "cell_type": "markdown",
      "source": [
        "Conversão do Dataframe com os dados acima do dia 10-06-2022 para um arquivo .csv"
      ],
      "metadata": {
        "id": "oaZ2DpVIqqWT"
      }
    }
  ]
}